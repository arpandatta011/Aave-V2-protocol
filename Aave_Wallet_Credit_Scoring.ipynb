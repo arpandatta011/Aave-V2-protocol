{
  "cells": [
    {
      "cell_type": "code",
      "execution_count": 12,
      "metadata": {
        "colab": {
          "base_uri": "https://localhost:8080/"
        },
        "id": "qy2TgfPxaJvr",
        "outputId": "65e812f0-6eaa-41a7-ba2d-379583981d80"
      },
      "outputs": [
        {
          "output_type": "stream",
          "name": "stdout",
          "text": [
            "Total unique assetSymbol types: 9\n",
            "Unique assetSymbols: {'WMATIC', '', 'AAVE', 'USDC', 'WPOL', 'DAI', 'USDT', 'WBTC', 'WETH'}\n"
          ]
        }
      ],
      "source": [
        "import json\n",
        "with open('user-wallet-transactions.json', 'r') as f:\n",
        "    data = json.load(f)\n",
        "\n",
        "asset_symbols = [\n",
        "    entry[\"actionData\"][\"assetSymbol\"]\n",
        "    for entry in data\n",
        "    if \"actionData\" in entry and \"assetSymbol\" in entry[\"actionData\"]\n",
        "]\n",
        "\n",
        "unique_symbols = set(asset_symbols)\n",
        "\n",
        "print(\"Total unique assetSymbol types:\", len(unique_symbols))\n",
        "print(\"Unique assetSymbols:\", unique_symbols)"
      ]
    },
    {
      "cell_type": "code",
      "source": [
        "import json\n",
        "from collections import defaultdict\n",
        "import pandas as pd\n",
        "import matplotlib.pyplot as plt\n",
        "import seaborn as sns\n",
        "\n",
        "# Token precision (how many decimals each token uses)\n",
        "TOKEN_PRECISION = {\n",
        "    'USDT': 1e6,\n",
        "    'USDC': 1e6,\n",
        "    'DAI': 1e18,\n",
        "    'WETH': 1e18,\n",
        "    'WBTC': 1e8,\n",
        "    'AAVE': 1e18,\n",
        "    'WMATIC': 1e18,\n",
        "    'WPOL': 1e18,\n",
        "    '': 1e18\n",
        "}\n",
        "\n",
        "with open('user-wallet-transactions.json', 'r') as f:\n",
        "    transactions = json.load(f)\n",
        "\n",
        "# Aggregate features per wallet\n",
        "wallets = defaultdict(lambda: {\n",
        "    'deposit_usd': 0,\n",
        "    'borrow_usd': 0,\n",
        "    'repay_usd': 0,\n",
        "    'liquidations': 0,\n",
        "    'tx_count': 0,\n",
        "    'timestamps': []\n",
        "})\n",
        "\n",
        "# Process each transaction\n",
        "for tx in transactions:\n",
        "    wallet = tx['userWallet']\n",
        "    action = tx['action'].lower()\n",
        "    data = tx['actionData']\n",
        "\n",
        "    symbol = data.get('assetSymbol', '')\n",
        "    price = float(data.get('assetPriceUSD', 0))\n",
        "    amount_raw = float(data.get('amount', 0))\n",
        "    precision = TOKEN_PRECISION.get(symbol, 1e18)\n",
        "    usd_value = (amount_raw / precision) * price\n",
        "\n",
        "    if action == 'deposit':\n",
        "        wallets[wallet]['deposit_usd'] += usd_value\n",
        "    elif action == 'borrow':\n",
        "        wallets[wallet]['borrow_usd'] += usd_value\n",
        "    elif action == 'repay':\n",
        "        wallets[wallet]['repay_usd'] += usd_value\n",
        "    elif action == 'redeemunderlying':\n",
        "        wallets[wallet]['deposit_usd'] -= usd_value\n",
        "    elif action == 'liquidationcall':\n",
        "        wallets[wallet]['liquidations'] += 1\n",
        "\n",
        "    wallets[wallet]['tx_count'] += 1\n",
        "    wallets[wallet]['timestamps'].append(tx['timestamp'])\n",
        "\n",
        "# Define the credit scoring logic\n",
        "def compute_score(w):\n",
        "    deposit = w['deposit_usd']\n",
        "    borrow = w['borrow_usd']\n",
        "    repay = w['repay_usd']\n",
        "    liquidations = w['liquidations']\n",
        "    tx_count = w['tx_count']\n",
        "    duration = max(w['timestamps']) - min(w['timestamps']) if len(w['timestamps']) > 1 else 0\n",
        "\n",
        "    borrow_ratio = borrow / deposit if deposit > 0 else 0\n",
        "    repay_ratio = repay / borrow if borrow > 0 else 0\n",
        "\n",
        "    score = 600\n",
        "    score += 100 * min(repay_ratio, 1.2)\n",
        "    score -= 150 * borrow_ratio\n",
        "    score -= 200 * liquidations\n",
        "    score += 10 * min(tx_count, 20)\n",
        "    score += duration / (60 * 60 * 24 * 30)\n",
        "\n",
        "    return max(0, min(1000, int(score)))\n",
        "\n",
        "# Calculate scores\n",
        "wallet_scores = []\n",
        "for wallet, data in wallets.items():\n",
        "    score = compute_score(data)\n",
        "    wallet_scores.append({\n",
        "        'wallet': wallet,\n",
        "        'deposit_usd': round(data['deposit_usd'], 2),\n",
        "        'borrow_usd': round(data['borrow_usd'], 2),\n",
        "        'repay_usd': round(data['repay_usd'], 2),\n",
        "        'liquidations': data['liquidations'],\n",
        "        'tx_count': data['tx_count'],\n",
        "        'score': score\n",
        "    })\n",
        "\n",
        "# Save result to JSON\n",
        "with open('wallet_scores.json', 'w') as f:\n",
        "    json.dump(wallet_scores, f, indent=2)\n",
        "\n",
        "# Plot score distribution\n",
        "df = pd.DataFrame(wallet_scores)\n",
        "plt.figure(figsize=(8, 4))\n",
        "sns.histplot(df['score'], bins=10, color='skyblue', edgecolor='black')\n",
        "plt.title(\"Credit Score Distribution Across Wallets\")\n",
        "plt.xlabel(\"Credit Score\")\n",
        "plt.ylabel(\"Number of Wallets\")\n",
        "plt.tight_layout()\n",
        "plt.savefig(\"score_distribution.png\")\n",
        "plt.show()"
      ],
      "metadata": {
        "colab": {
          "base_uri": "https://localhost:8080/",
          "height": 407
        },
        "id": "3YXiHJ6cr-zK",
        "outputId": "e9096223-0711-4121-d03f-48363f9276e7"
      },
      "execution_count": 13,
      "outputs": [
        {
          "output_type": "display_data",
          "data": {
            "text/plain": [
              "<Figure size 800x400 with 1 Axes>"
            ],
            "image/png": "[encoded data removed]"
          },
          "metadata": {}
        }
      ]
    },
    {
      "cell_type": "code",
      "source": [
        "import pandas as pd\n",
        "\n",
        "df = pd.read_json('wallet_scores.json')\n",
        "bins = [0,100,200,300,400,500,600,700,800,900,1000]\n",
        "counts = pd.cut(df['score'], bins=bins).value_counts().sort_index()\n",
        "print(counts)"
      ],
      "metadata": {
        "colab": {
          "base_uri": "https://localhost:8080/"
        },
        "id": "G3UKudPzdZ8w",
        "outputId": "0c392103-b833-44be-c56e-f9291dd50bb4"
      },
      "execution_count": 14,
      "outputs": [
        {
          "output_type": "stream",
          "name": "stdout",
          "text": [
            "score\n",
            "(0, 100]         12\n",
            "(100, 200]       29\n",
            "(200, 300]       22\n",
            "(300, 400]       40\n",
            "(400, 500]       54\n",
            "(500, 600]      251\n",
            "(600, 700]     2124\n",
            "(700, 800]      411\n",
            "(800, 900]      262\n",
            "(900, 1000]     109\n",
            "Name: count, dtype: int64\n"
          ]
        }
      ]
    }
  ],
  "metadata": {
    "colab": {
      "provenance": []
    },
    "kernelspec": {
      "display_name": "Python 3",
      "name": "python3"
    },
    "language_info": {
      "name": "python"
    }
  },
  "nbformat": 4,
  "nbformat_minor": 0
}